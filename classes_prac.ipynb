{
 "cells": [
  {
   "cell_type": "code",
   "execution_count": null,
   "metadata": {},
   "outputs": [],
   "source": [
    "class DataCleaner:\n",
    "    \"\"\"Basic class for data cleaning operations\"\"\"\n",
    "\n",
    "    def __init__(self, missing_value_strategy=\n",
    "                 'mean'):\n",
    "        \n",
    "        self.missing_value_strategy = missing_value_strategy\n",
    "        self.clean_data = None\n",
    "\n",
    "    def remove_duplicates(self,df):\n",
    "        \"\"\"Remove duplicate rows\"\"\"\n",
    "        return df.drop_duplicates()\n",
    "    \n",
    "    def handle_missing(self,df):\n",
    "        \"\"\"Handle missing values based on strategy\"\"\"\n",
    "\n",
    "        if self.missing_value_strategy == 'mean':\n",
    "            return df.fillna(df.mean())\n",
    "        elif self.missing_value_strategy == 'drop':\n",
    "            return df.dropna()\n",
    "        return df\n",
    "    \n"
   ]
  },
  {
   "cell_type": "code",
   "execution_count": null,
   "metadata": {},
   "outputs": [],
   "source": [
    "cleaner = DataCleaner(missing_value_strategy='mean')\n",
    "clean_df = cleaner.remove_duplicates(df)\n",
    "final_df = cleaner.handle_missing(clean_df)"
   ]
  },
  {
   "cell_type": "code",
   "execution_count": null,
   "metadata": {},
   "outputs": [],
   "source": [
    "class FeatureEngineer:\n",
    "    \"\"\"Class for feature engineering operations\"\"\"\n",
    "\n",
    "    def __init__(self, config):\n",
    "        self.config = config\n",
    "        self.required_features = config['features']\n",
    "\n",
    "    @staticmethod\n",
    "    def calculate_age(year_column):\n",
    "        \"\"\"Create age feature from year column\"\"\"\n",
    "        return 2024 - year_column\n",
    "    \n",
    "    def create_features(self, df):\n",
    "        \"\"\"Main method to create all features\"\"\"\n",
    "\n",
    "        df = df[self.required_features].copy()\n",
    "        if 'construcction_year' in df.columns:\n",
    "            df['age'] = self.calculate_age(df['construction_year'])\n",
    "        \n",
    "        return df\n",
    "    \n",
    "    "
   ]
  },
  {
   "cell_type": "code",
   "execution_count": null,
   "metadata": {},
   "outputs": [],
   "source": [
    "# Example usage\n",
    "\n",
    "config = {'features': ['size', 'construction_year']\n",
    "          }\n",
    "engineer = FeatureEngineer(config)\n",
    "processed_df = engineer.create_features(df)"
   ]
  },
  {
   "cell_type": "code",
   "execution_count": null,
   "metadata": {},
   "outputs": [],
   "source": [
    "class DataPreparation:\n",
    "    \"\"\"Advanced data preparation pipeline\"\"\"\n",
    "\n",
    "    def __init__(self, config):\n",
    "        self.config = config\n",
    "        self.preprocessor = self._build_preprocessor()\n",
    "        self.clean_data = None\n",
    "\n",
    "    def _build_preprocessor(self):\n",
    "        \"\"\"Private method to create processing pipeline\"\"\"\n",
    "        numerical = Pipeline([('scaler', StandardScaler())])\n",
    "        return ColumnTransformer([\n",
    "            ('num', numerical, self.config['numerical'])\n",
    "        ])\n",
    "    \n",
    "    def full_pipeline(self,df):\n",
    "        \"\"\"Execute complete processing pipeline\"\"\"\n",
    "\n",
    "        df = self.clean_data(df)\n",
    "        df = self.feature_engineering(df)\n",
    "        return self.preprocessor.fit_transform(df)"
   ]
  },
  {
   "cell_type": "code",
   "execution_count": 1,
   "metadata": {},
   "outputs": [],
   "source": [
    "class Character:\n",
    "    \"\"\"A base class for game characters.\n",
    "    \n",
    "    Attributes:\n",
    "        health(int): The health points of the character.\n",
    "        damage(int): The damage the character can deal\n",
    "        speed(int): The speed of the character.\n",
    "    \"\"\"\n",
    "\n",
    "    def __init__(self, health: int, damage: int, speed: int):\n",
    "        \"\"\"\n",
    "        Initialize a character with health, damage, and speed\n",
    "        \n",
    "        Args:\n",
    "            health(int): The starting health of the character.\n",
    "            damage(int): The base damage of the character.\n",
    "            speed(int): The base speed of the character.\n",
    "        \"\"\"\n",
    "        self.health = health\n",
    "        self.damage = damage\n",
    "        self.speed = speed\n",
    "\n",
    "    def take_damage(self, amount: int):\n",
    "        \"\"\"\n",
    "        Redude the character's health by a specified amount.\n",
    "        \n",
    "        Args:\n",
    "            amount (int): The amount of damage to take.\n",
    "        \"\"\"\n",
    "\n",
    "        self.health -=amount\n",
    "        if self.health < 0:\n",
    "            self.health = 0\n",
    "        print(f'{self.__class__.__name__} took {amount} damage! Health is now {self.health}.')\n",
    "\n",
    "    def speed_up(self, boost: int):\n",
    "        \"\"\"\n",
    "        Increatse the character's speed by a speficied amount.\n",
    "        \n",
    "        Args:\n",
    "        boost (int): The amount to increase speed by.\n",
    "        \"\"\"\n",
    "        self.speed += boost\n",
    "        print(f'{self.__class__.__name__} sped up by {boost}! Speed is now {self.speed}.')\n",
    "\n",
    "    def double_damage(self):\n",
    "        \"\"\"\n",
    "        Double the character's damage for a powerful attack.\n",
    "        \"\"\"\n",
    "\n",
    "        self.damage *= 2\n",
    "        print(f'{self.__class__.__name__} doubled their damage! Damage is now {self.damage}.')\n",
    "\n",
    "    def attack (self, target):\n",
    "        \"\"\"\n",
    "        Attack another character, dealing damage to them.\n",
    "        \n",
    "        Args:\n",
    "            target (Character): The character to attack.\n",
    "        \"\"\"\n",
    "        print(f'{self.__class__.__name__} attacks {target.__class__.__name__} for {self.damage} damage!')\n",
    "        target.take_damage(self.damage)\n",
    "\n",
    "    def __str__(self):\n",
    "        \"\"\"\n",
    "        Return a string representation of the character.\n",
    "        \"\"\"\n",
    "        return f'{self.__class__.__name__} (Health: {self.health}, Damage: {self.damage}, Speed: {self.speed})'\n",
    "    "
   ]
  },
  {
   "cell_type": "code",
   "execution_count": 2,
   "metadata": {},
   "outputs": [],
   "source": [
    "class Warrior(Character):\n",
    "    \"\"\"\n",
    "    A Warrior character with high damage and moderate health.\n",
    "    \"\"\"\n",
    "    def __init__(self):\n",
    "        super().__init__(health = 120, damage = 20, speed = 10)\n",
    "    \n",
    "    def berserk(self):\n",
    "        \"\"\"\n",
    "        Enter berserk mode, increasing damage but reducing health.\n",
    "        \"\"\"\n",
    "\n",
    "        self.damage += 15\n",
    "        self.health -=20\n",
    "        print(f'{self.__class__.__name__} goes berserk! Damage is now {self.damage}, but health dropped to {self.health}.')\n",
    "        "
   ]
  },
  {
   "cell_type": "code",
   "execution_count": 3,
   "metadata": {},
   "outputs": [],
   "source": [
    "class Shaman (Character):\n",
    "    \"\"\"\n",
    "    A shaman character with healing abilities.\n",
    "    \"\"\"\n",
    "\n",
    "    def __init__(self):\n",
    "        super().__init__(health = 90, damage = 15, speed = 12)\n",
    "\n",
    "    def heal(self, amount: int):\n",
    "        \"\"\"\n",
    "        Heal the Shaman by a specified amount.\n",
    "        \n",
    "        Args:\n",
    "            amount (int): The amount to heal.\n",
    "        \"\"\"\n",
    "\n",
    "        self.health += amount\n",
    "        print(f'{self.__class__.__name__} healed for {amount}! Health is now {self.health}.')\n",
    "\n",
    "    "
   ]
  },
  {
   "cell_type": "code",
   "execution_count": 4,
   "metadata": {},
   "outputs": [],
   "source": [
    "class Tank(Character):\n",
    "    \"\"\"\n",
    "    A Tank character with high health but low speed.\n",
    "    \"\"\"\n",
    "    def __init__(self):\n",
    "        super().__init__(health = 200, damage = 10, speed = 5)\n",
    "\n",
    "    def shield_up(self):\n",
    "        \"\"\"\n",
    "        Activate shield, reducing damage taken.\n",
    "        \"\"\"\n",
    "        self.health += 50\n",
    "        print(f'{self.__class__.__name__} activated their shield! Health is now {self.health}.')"
   ]
  },
  {
   "cell_type": "code",
   "execution_count": 5,
   "metadata": {},
   "outputs": [],
   "source": [
    "# Create characters and test their abilities\n",
    "warrior = Warrior()\n",
    "shaman = Shaman()\n",
    "tank = Tank()\n"
   ]
  },
  {
   "cell_type": "code",
   "execution_count": 6,
   "metadata": {},
   "outputs": [
    {
     "name": "stdout",
     "output_type": "stream",
     "text": [
      "Warrior (Health: 120, Damage: 20, Speed: 10)\n",
      "Shaman (Health: 90, Damage: 15, Speed: 12)\n",
      "Tank (Health: 200, Damage: 10, Speed: 5)\n"
     ]
    }
   ],
   "source": [
    "# Print the character stats\n",
    "heroes = [warrior, shaman, tank]\n",
    "for hero in heroes:\n",
    "    print(hero)"
   ]
  },
  {
   "cell_type": "code",
   "execution_count": 7,
   "metadata": {},
   "outputs": [
    {
     "name": "stdout",
     "output_type": "stream",
     "text": [
      "Warrior attacks Shaman for 20 damage!\n",
      "Shaman took 20 damage! Health is now 70.\n"
     ]
    }
   ],
   "source": [
    "warrior.attack(shaman)"
   ]
  },
  {
   "cell_type": "code",
   "execution_count": 8,
   "metadata": {},
   "outputs": [
    {
     "name": "stdout",
     "output_type": "stream",
     "text": [
      "Shaman healed for 20! Health is now 90.\n"
     ]
    }
   ],
   "source": [
    "shaman.heal(20)"
   ]
  },
  {
   "cell_type": "code",
   "execution_count": 9,
   "metadata": {},
   "outputs": [
    {
     "name": "stdout",
     "output_type": "stream",
     "text": [
      "Tank activated their shield! Health is now 250.\n"
     ]
    }
   ],
   "source": [
    "tank.shield_up()"
   ]
  },
  {
   "cell_type": "code",
   "execution_count": 10,
   "metadata": {},
   "outputs": [
    {
     "name": "stdout",
     "output_type": "stream",
     "text": [
      "Warrior doubled their damage! Damage is now 40.\n"
     ]
    }
   ],
   "source": [
    "warrior.double_damage()"
   ]
  },
  {
   "cell_type": "code",
   "execution_count": 11,
   "metadata": {},
   "outputs": [
    {
     "name": "stdout",
     "output_type": "stream",
     "text": [
      "Warrior attacks Tank for 40 damage!\n",
      "Tank took 40 damage! Health is now 210.\n"
     ]
    }
   ],
   "source": [
    "warrior.attack(tank)"
   ]
  },
  {
   "cell_type": "code",
   "execution_count": 12,
   "metadata": {},
   "outputs": [
    {
     "name": "stdout",
     "output_type": "stream",
     "text": [
      "Shaman sped up by 5! Speed is now 17.\n"
     ]
    }
   ],
   "source": [
    "shaman.speed_up(5)"
   ]
  },
  {
   "cell_type": "code",
   "execution_count": 13,
   "metadata": {},
   "outputs": [
    {
     "name": "stdout",
     "output_type": "stream",
     "text": [
      "Warrior goes berserk! Damage is now 55, but health dropped to 100.\n"
     ]
    }
   ],
   "source": [
    "warrior.berserk()"
   ]
  },
  {
   "cell_type": "code",
   "execution_count": 14,
   "metadata": {},
   "outputs": [
    {
     "name": "stdout",
     "output_type": "stream",
     "text": [
      "Warrior attacks Shaman for 55 damage!\n",
      "Shaman took 55 damage! Health is now 35.\n"
     ]
    }
   ],
   "source": [
    "warrior.attack(shaman)"
   ]
  },
  {
   "cell_type": "code",
   "execution_count": 15,
   "metadata": {},
   "outputs": [
    {
     "name": "stdout",
     "output_type": "stream",
     "text": [
      "Warrior attacks Shaman for 55 damage!\n",
      "Shaman took 55 damage! Health is now 0.\n"
     ]
    }
   ],
   "source": [
    "warrior.attack(shaman)"
   ]
  },
  {
   "cell_type": "markdown",
   "metadata": {},
   "source": [
    "### Battle Class"
   ]
  },
  {
   "cell_type": "code",
   "execution_count": 16,
   "metadata": {},
   "outputs": [],
   "source": [
    "import random"
   ]
  },
  {
   "cell_type": "code",
   "execution_count": 17,
   "metadata": {},
   "outputs": [],
   "source": [
    "class Battle:\n",
    "    \"\"\"\n",
    "    A class to simulate a battle between two characters.\n",
    "    \n",
    "    Attributes:\n",
    "        character1 (Character): The first character in battle.\n",
    "        character2 (Character): The second character in the battle.\n",
    "        turn :(int): The current turn number.\n",
    "    \"\"\"\n",
    "\n",
    "    def __init__(self, character1: Character, character2: Character):\n",
    "        \"\"\"\n",
    "        Initialize a battle between two characters.\n",
    "        \n",
    "        Args:\n",
    "            character1 (Character): The first character.\n",
    "            character2 (Character): The second character.\n",
    "        \"\"\"\n",
    "        self.character1 = character1\n",
    "        self.character2 = character2\n",
    "        self.turn = 1\n",
    "\n",
    "    def simulate_turn(self):\n",
    "        \"\"\"\n",
    "        Simulate one turn of the battle, using speed to determine attack order and frequency.\n",
    "        \"\"\"\n",
    "        print(f'\\n--- Turn {self.turn} ---')\n",
    "\n",
    "        # Determine who attacks first based on sped\n",
    "        if self.character1.speed > self.character2.speed:\n",
    "            self._attack(self.character1, self.character2)\n",
    "            if self.character2.health > 0:\n",
    "                self._attack(self.character2, self.character1)\n",
    "        else:\n",
    "            self._attack(self.character2, self.character1)\n",
    "            if self.character1.health > 0:\n",
    "                self._attack(self.character1, self.character2)\n",
    "        self.turn += 1\n",
    "\n",
    "    def _attack(self, attacker: Character, defender: Character):\n",
    "        \"\"\"\n",
    "        Handle an attack between two characters.\n",
    "        \n",
    "        Args:\n",
    "            attacker (Character): The attacking character.\n",
    "            defender (Character): The defending character.\n",
    "        \"\"\"\n",
    "\n",
    "        # Add some randomness to the damage\n",
    "        damage = attacker.damage + random.randint(-3, 3)\n",
    "        if damage < 0:\n",
    "            damage = 0 # Ensure damage is not negative\n",
    "\n",
    "        print(f'{attacker.__class__.__name__} attacks {defender.__class__.__name__} for {damage} damage!')\n",
    "        defender.take_damage(damage)\n",
    "\n",
    "        # Check for special abilities\n",
    "        self._trigger_special_ability(attacker)\n",
    "\n",
    "    def _trigger_special_ability(self, character: Character):\n",
    "        \"\"\"\n",
    "        Trigger a character's special ability if conditions are met.\n",
    "        \n",
    "        Args:\n",
    "            character (Character): The character to check for special abilities.\n",
    "            \"\"\"\n",
    "        if isinstance (character, Warrior) and character.health < 50:\n",
    "            character.berserk()\n",
    "        elif isinstance (character, Shaman) and character.health < 30:\n",
    "            character.heal(20)\n",
    "\n",
    "        elif isinstance (character, Tank) and character.health < 100:\n",
    "            character.shield_up()\n",
    "\n",
    "    def start_battle(self):\n",
    "        \"\"\"\n",
    "        Start the battle and simulate turns until one character is defeater.\n",
    "        \"\"\"\n",
    "        print(f'Battle Start! {self.character1.__class__.__name__} vs {self.character2.__class__.__name__}')\n",
    "        print(self.character1)\n",
    "        print(self.character2)\n",
    "\n",
    "        while self.character1.health > 0 and self.character2.health > 0:\n",
    "            self.simulate_turn()\n",
    "\n",
    "        self._declare_winner()\n",
    "    def _declare_winner(self):\n",
    "        \"\"\"\n",
    "        Declare the winner of the battle.\n",
    "        \"\"\"\n",
    "\n",
    "        if self.character1.health > 0:\n",
    "            print(f'\\n{self.character1.__class__.__name__} wins the battle!')\n",
    "        elif self.character2.health > 0:\n",
    "            print(f'\\n{self.character2.__class__.__name__} wins the battle!')\n",
    "        else:\n",
    "            print(\"\\nIt's a draw!\")\n",
    "\n",
    "        \n"
   ]
  },
  {
   "cell_type": "code",
   "execution_count": 18,
   "metadata": {},
   "outputs": [
    {
     "name": "stdout",
     "output_type": "stream",
     "text": [
      "Battle Start! Warrior vs Tank\n",
      "Warrior (Health: 120, Damage: 20, Speed: 10)\n",
      "Tank (Health: 200, Damage: 10, Speed: 5)\n",
      "\n",
      "--- Turn 1 ---\n",
      "Warrior attacks Tank for 18 damage!\n",
      "Tank took 18 damage! Health is now 182.\n",
      "Tank attacks Warrior for 13 damage!\n",
      "Warrior took 13 damage! Health is now 107.\n",
      "\n",
      "--- Turn 2 ---\n",
      "Warrior attacks Tank for 17 damage!\n",
      "Tank took 17 damage! Health is now 165.\n",
      "Tank attacks Warrior for 10 damage!\n",
      "Warrior took 10 damage! Health is now 97.\n",
      "\n",
      "--- Turn 3 ---\n",
      "Warrior attacks Tank for 22 damage!\n",
      "Tank took 22 damage! Health is now 143.\n",
      "Tank attacks Warrior for 11 damage!\n",
      "Warrior took 11 damage! Health is now 86.\n",
      "\n",
      "--- Turn 4 ---\n",
      "Warrior attacks Tank for 19 damage!\n",
      "Tank took 19 damage! Health is now 124.\n",
      "Tank attacks Warrior for 13 damage!\n",
      "Warrior took 13 damage! Health is now 73.\n",
      "\n",
      "--- Turn 5 ---\n",
      "Warrior attacks Tank for 21 damage!\n",
      "Tank took 21 damage! Health is now 103.\n",
      "Tank attacks Warrior for 12 damage!\n",
      "Warrior took 12 damage! Health is now 61.\n",
      "\n",
      "--- Turn 6 ---\n",
      "Warrior attacks Tank for 18 damage!\n",
      "Tank took 18 damage! Health is now 85.\n",
      "Tank attacks Warrior for 13 damage!\n",
      "Warrior took 13 damage! Health is now 48.\n",
      "Tank activated their shield! Health is now 135.\n",
      "\n",
      "--- Turn 7 ---\n",
      "Warrior attacks Tank for 19 damage!\n",
      "Tank took 19 damage! Health is now 116.\n",
      "Warrior goes berserk! Damage is now 35, but health dropped to 28.\n",
      "Tank attacks Warrior for 9 damage!\n",
      "Warrior took 9 damage! Health is now 19.\n",
      "\n",
      "--- Turn 8 ---\n",
      "Warrior attacks Tank for 35 damage!\n",
      "Tank took 35 damage! Health is now 81.\n",
      "Warrior goes berserk! Damage is now 50, but health dropped to -1.\n",
      "Tank attacks Warrior for 13 damage!\n",
      "Warrior took 13 damage! Health is now 0.\n",
      "Tank activated their shield! Health is now 131.\n",
      "\n",
      "Tank wins the battle!\n"
     ]
    }
   ],
   "source": [
    "# Create character with different speed\n",
    "warrior = Warrior()\n",
    "shaman = Shaman()\n",
    "tank = Tank()\n",
    "\n",
    "# Start a battle\n",
    "\n",
    "battle = Battle(warrior, tank)\n",
    "battle.start_battle()"
   ]
  },
  {
   "cell_type": "code",
   "execution_count": 24,
   "metadata": {},
   "outputs": [],
   "source": []
  }
 ],
 "metadata": {
  "kernelspec": {
   "display_name": "Python 3",
   "language": "python",
   "name": "python3"
  },
  "language_info": {
   "codemirror_mode": {
    "name": "ipython",
    "version": 3
   },
   "file_extension": ".py",
   "mimetype": "text/x-python",
   "name": "python",
   "nbconvert_exporter": "python",
   "pygments_lexer": "ipython3",
   "version": "3.11.1"
  }
 },
 "nbformat": 4,
 "nbformat_minor": 2
}
